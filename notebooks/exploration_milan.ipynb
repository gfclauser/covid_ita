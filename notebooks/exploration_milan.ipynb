{
 "cells": [
  {
   "cell_type": "code",
   "execution_count": null,
   "metadata": {},
   "outputs": [],
   "source": [
    "import numpy as np\n",
    "import pandas as pd\n",
    "import seaborn as sns\n",
    "import matplotlib.pyplot as plt\n",
    "import os\n",
    "import shutil"
   ]
  },
  {
   "cell_type": "code",
   "execution_count": null,
   "metadata": {},
   "outputs": [],
   "source": [
    "# Set working directory to home\n",
    "os.chdir(\"/Users/giorgioclauser/Projects/covid_ita/\")"
   ]
  },
  {
   "cell_type": "code",
   "execution_count": null,
   "metadata": {},
   "outputs": [],
   "source": [
    "# Remove old plots and create directory for new ones\n",
    "dir_path = \"/Users/giorgioclauser/Documents/covid_plts/milano\"\n",
    "shutil.rmtree(dir_path)\n",
    "os.mkdir(dir_path)"
   ]
  },
  {
   "cell_type": "code",
   "execution_count": null,
   "metadata": {},
   "outputs": [],
   "source": [
    "# Import national data\n",
    "df_mln = pd.read_csv(\"https://raw.githubusercontent.com/pcm-dpc/COVID-19/master/dati-province/dpc-covid19-ita-province.csv\")"
   ]
  },
  {
   "cell_type": "code",
   "execution_count": null,
   "metadata": {},
   "outputs": [],
   "source": [
    "df_mln = df_mln.loc[df_mln[\"denominazione_provincia\"] == \"Milano\"].copy()"
   ]
  },
  {
   "cell_type": "code",
   "execution_count": null,
   "metadata": {},
   "outputs": [],
   "source": [
    "# Feature engineering\n",
    "# df_mln[\"prcn_tamponi_positivi_overall\"] = df_mln[\"totale_casi\"]/df_mln[\"tamponi\"]\n",
    "# df_mln[\"prcn_tamponi_positivi_daily\"] = df_mln[\"variazione_totale_positivi\"]/(df_mln[\"tamponi\"] - df_mln[\"tamponi\"].shift(1))\n",
    "df_mln['reference_day'] = df_mln.data.apply(lambda x: x[5:10])\n",
    "df_mln['nuovi_casi'] = df_mln['totale_casi'] - df_mln[\"totale_casi\"].shift(1)\n",
    "df_mln[\"growth_rate\"] = df_mln[\"totale_casi\"]/df_mln[\"totale_casi\"].shift(1)\n",
    "df_mln.reset_index(inplace=True)"
   ]
  },
  {
   "cell_type": "code",
   "execution_count": null,
   "metadata": {},
   "outputs": [],
   "source": [
    "df_mln.tail()"
   ]
  },
  {
   "cell_type": "code",
   "execution_count": null,
   "metadata": {},
   "outputs": [],
   "source": [
    "# Giorni con decreti:\n",
    "day_decreti = ['03-04', '03-08', '03-09', '03-11', '03-22']\n",
    "fase2 = ['05-04']\n",
    "fase3 = ['06-03']"
   ]
  },
  {
   "cell_type": "code",
   "execution_count": null,
   "metadata": {},
   "outputs": [],
   "source": [
    "# Generate plot\n",
    "plt.figure(figsize=(20,12))\n",
    "ax = sns.lineplot(x=\"reference_day\", y=\"totale_casi\",\n",
    "                  data=df_mln)\n",
    "plt.fill_between(x='reference_day', y1='totale_casi', y2=0 ,data=df_mln, color='blue', alpha=.1)\n",
    "plt.grid(color='grey', linestyle='--', linewidth=.5, which='both')\n",
    "plt.ylabel('Total infected', fontsize=18)\n",
    "plt.xlabel('')\n",
    "plt.title('COVID19 - Infection evolution in Milan', fontsize=26)\n",
    "ax.tick_params(axis='both', which='major', labelsize=16)\n",
    "plt.xticks(rotation=45)\n",
    "plt.text(df_mln.reference_day[len(df_mln)-1], \n",
    "         df_mln.totale_casi[len(df_mln)-1]+113,\n",
    "         int(df_mln.totale_casi[len(df_mln)-1]), fontsize=14)\n",
    "for day in day_decreti:\n",
    "    ax.axvline(day, ls='--', color='red', lw=1.5)\n",
    "    plt.text(day, .3,'DPCM', fontsize=14, rotation=45)\n",
    "for day in fase2:\n",
    "    ax.axvline(day, ls='--', color='blue', lw=1.5)\n",
    "    plt.text(day, .3,'PHASE 2', fontsize=14, rotation=45)\n",
    "for day in fase3:\n",
    "    ax.axvline(day, ls='--', color='blue', lw=1.5)\n",
    "    plt.text(day, .3,'PHASE 3', fontsize=14, rotation=45)\n",
    "ax.set_xticks(ax.get_xticks()[::3])\n",
    "plt.savefig(f\"{dir_path}/infection_evolution_mln.png\")\n",
    "plt.show()"
   ]
  },
  {
   "cell_type": "code",
   "execution_count": null,
   "metadata": {},
   "outputs": [],
   "source": [
    "def get_trend(series):\n",
    "    from pandas import datetime\n",
    "    from sklearn.linear_model import LinearRegression\n",
    "    from matplotlib import pyplot\n",
    "    import numpy\n",
    "     \n",
    "    def parser(x):\n",
    "        return datetime.strptime('190'+x, '%Y-%m')\n",
    "     \n",
    "    series = series.dropna()\n",
    "    # fit linear model\n",
    "    X = [i for i in range(0, len(series))]\n",
    "    X = numpy.reshape(X, (len(X), 1))\n",
    "    y = series.values\n",
    "    model = LinearRegression()\n",
    "    model.fit(X, y)\n",
    "    # calculate trend\n",
    "    trend = model.predict(X)\n",
    "    return trend"
   ]
  },
  {
   "cell_type": "code",
   "execution_count": null,
   "metadata": {},
   "outputs": [],
   "source": [
    "# Generate plot\n",
    "#df_gr = df_mln[[\"reference_day\", \"growth_rate\"]].dropna().copy()\n",
    "#df_gr[\"growth_rate\"] = df_gr.growth_rate.rolling(window=4).mean()\n",
    "#df_gr.dropna(inplace=True)\n",
    "#df_gr = df_mln[[\"reference_day\", \"growth_rate\"]].dropna().copy()\n",
    "#df_gr = df_gr.iloc[1:,:].copy()\n",
    "#df_gr[\"trend\"] = get_trend(df_gr[\"growth_rate\"])\n",
    "#plt.figure(figsize=(20,12))\n",
    "#ax = sns.lineplot(x=\"reference_day\", y=\"growth_rate\",\n",
    "#                  data=df_gr, lw=3)\n",
    "#ax = sns.lineplot(x=\"reference_day\", y=\"trend\",\n",
    "#                  data=df_gr, lw=2)\n",
    "#plt.grid(color='grey', linestyle='--', linewidth=.5, which='both')\n",
    "#plt.ylabel('Growth rate', fontsize=18)\n",
    "#plt.xlabel('')\n",
    "#plt.title('COVID19 - Growth rate evolution in Milan', fontsize=26)\n",
    "#ax.tick_params(axis='both', which='major', labelsize=16)\n",
    "#plt.xticks(rotation=45)\n",
    "#plt.ylim(bottom=-2, top=5)\n",
    "#ax.axhline(1, ls='--', color='green', lw=1.5)\n",
    "#for day in day_decreti:\n",
    "#    ax.axvline(day, ls='--', color='red', lw=1.5)\n",
    "#    plt.text(day, .84,'DPCM', fontsize=14, rotation=45)\n",
    "#for day in fase2:\n",
    "#    ax.axvline(day, ls='--', color='blue', lw=1.5)\n",
    "#    plt.text(day, .84,'PHASE 2', fontsize=14, rotation=45)\n",
    "#ax.set_xticks(ax.get_xticks()[::3])\n",
    "#plt.savefig(f\"{dir_path}/growth_rate_mln.png\")\n",
    "#plt.show()"
   ]
  },
  {
   "cell_type": "code",
   "execution_count": null,
   "metadata": {},
   "outputs": [],
   "source": [
    "# Focus on number of new cases\n",
    "df_pl = df_mln.copy()\n",
    "df_pl.sort_values(by=[\"reference_day\"], ascending=True, inplace=True)\n",
    "df_pl.reset_index(inplace=True)\n",
    "\n",
    "plt.figure(figsize=(20,12))\n",
    "ax = sns.lineplot(x=\"reference_day\", y=\"nuovi_casi\",\n",
    "                  data=df_pl, lw=3, color='orange')\n",
    "plt.grid(color='grey', linestyle='--', linewidth=.5, which='both')\n",
    "plt.fill_between(x='reference_day', y1='nuovi_casi', y2=0 ,data=df_pl, color='orange', alpha=.1)\n",
    "plt.ylabel('Number of new cases', fontsize=18)\n",
    "plt.xlabel('')\n",
    "plt.title('COVID19 - Number of new cases in Milan', fontsize=26)\n",
    "ax.tick_params(axis='both', which='major', labelsize=16)\n",
    "plt.xticks(rotation=45)\n",
    "ax.axhline(500, ls='--', color='green', lw=1.5)\n",
    "plt.text(df_pl.reference_day[len(df_pl)-1], \n",
    "         df_pl.nuovi_casi[len(df_pl)-1]+13,\n",
    "         int(df_pl.nuovi_casi[len(df_pl)-1]), fontsize=14)\n",
    "for day in day_decreti:\n",
    "    ax.axvline(day, ls='--', color='red', lw=1.5)\n",
    "    plt.text(day, .5,'DPCM', fontsize=14, rotation=45)\n",
    "for day in fase2:\n",
    "    ax.axvline(day, ls='--', color='blue', lw=1.5)\n",
    "    plt.text(day, .3,'PHASE 2', fontsize=14, rotation=45)\n",
    "for day in fase3:\n",
    "    ax.axvline(day, ls='--', color='blue', lw=1.5)\n",
    "    plt.text(day, .3,'PHASE 3', fontsize=14, rotation=45)\n",
    "ax.set_xticks(ax.get_xticks()[::3])\n",
    "plt.savefig(f\"{dir_path}/new_cases_evolution_.png\")\n",
    "plt.show()"
   ]
  }
 ],
 "metadata": {
  "kernelspec": {
   "display_name": "Python 3",
   "language": "python",
   "name": "python3"
  },
  "language_info": {
   "codemirror_mode": {
    "name": "ipython",
    "version": 3
   },
   "file_extension": ".py",
   "mimetype": "text/x-python",
   "name": "python",
   "nbconvert_exporter": "python",
   "pygments_lexer": "ipython3",
   "version": "3.7.3"
  }
 },
 "nbformat": 4,
 "nbformat_minor": 4
}
